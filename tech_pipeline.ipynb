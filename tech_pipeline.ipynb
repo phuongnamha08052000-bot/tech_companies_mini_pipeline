{
 "cells": [
  {
   "cell_type": "code",
   "execution_count": 1,
   "id": "df10f397",
   "metadata": {},
   "outputs": [],
   "source": [
    "import pandas as pd"
   ]
  },
  {
   "cell_type": "code",
   "execution_count": 2,
   "id": "be4856c5",
   "metadata": {},
   "outputs": [],
   "source": [
    "#read in the csv file into a pandas df\n",
    "crunchbase = pd.read_csv('crunchbase_orgs.csv')"
   ]
  },
  {
   "cell_type": "code",
   "execution_count": 3,
   "id": "b6e1fdb8",
   "metadata": {},
   "outputs": [
    {
     "name": "stdout",
     "output_type": "stream",
     "text": [
      "<class 'pandas.core.frame.DataFrame'>\n",
      "RangeIndex: 1127658 entries, 0 to 1127657\n",
      "Data columns (total 16 columns):\n",
      " #   Column                  Non-Null Count    Dtype \n",
      "---  ------                  --------------    ----- \n",
      " 0   uuid                    1127658 non-null  object\n",
      " 1   name                    1127657 non-null  object\n",
      " 2   type                    1127658 non-null  object\n",
      " 3   primary_role            1127658 non-null  object\n",
      " 4   cb_url                  1127653 non-null  object\n",
      " 5   domain                  1127657 non-null  object\n",
      " 6   homepage_url            1127658 non-null  object\n",
      " 7   logo_url                999646 non-null   object\n",
      " 8   facebook_url            642411 non-null   object\n",
      " 9   twitter_url             579963 non-null   object\n",
      " 10  linkedin_url            574428 non-null   object\n",
      " 11  combined_stock_symbols  33898 non-null    object\n",
      " 12  city                    986170 non-null   object\n",
      " 13  region                  986170 non-null   object\n",
      " 14  country_code            986170 non-null   object\n",
      " 15  short_description       1127634 non-null  object\n",
      "dtypes: object(16)\n",
      "memory usage: 137.7+ MB\n",
      "None\n"
     ]
    }
   ],
   "source": [
    "#print the column names with info()\n",
    "print(crunchbase.info())"
   ]
  },
  {
   "cell_type": "code",
   "execution_count": 4,
   "id": "baf4f40e",
   "metadata": {},
   "outputs": [],
   "source": [
    "#drop records where company names are None values\n",
    "crunchbase_clean = crunchbase.dropna(subset=[\"name\"])"
   ]
  },
  {
   "cell_type": "code",
   "execution_count": 5,
   "id": "119e6c8f",
   "metadata": {},
   "outputs": [
    {
     "name": "stdout",
     "output_type": "stream",
     "text": [
      "Number of records after dropping null company names: 1127657\n"
     ]
    }
   ],
   "source": [
    "#print the count of records in the resulting data frame\n",
    "print(\"Number of records after dropping null company names:\", len(crunchbase_clean))"
   ]
  },
  {
   "cell_type": "code",
   "execution_count": 6,
   "id": "ec47143f",
   "metadata": {},
   "outputs": [
    {
     "name": "stdout",
     "output_type": "stream",
     "text": [
      "                                   uuid                   name          type  \\\n",
      "0  e1393508-30ea-8a36-3f96-dd3226033abd               Wetpaint  organization   \n",
      "1  bf4d7b0e-b34d-2fd8-d292-6049c4f7efc7                   Zoho  organization   \n",
      "2  5f2b40b8-d1b3-d323-d81a-b7a8e89553d0                   Digg  organization   \n",
      "3  df662812-7f97-0b43-9d3e-12f64f504fbb               Facebook  organization   \n",
      "4  b08efc27-da40-505a-6f9d-c9e14247bf36                  Accel  organization   \n",
      "5  60485007-8856-bbac-aa1b-c535c41f5f47              Omnidrive  organization   \n",
      "6  4111dc8b-c0df-2d24-ed33-30cd137b3098                   Geni  organization   \n",
      "7  180ebf67-68d0-2316-e93d-8e1e546330ba                Flektor  organization   \n",
      "8  d70777cc-14bd-2416-0692-5a483781b78b  Fox Interactive Media  organization   \n",
      "9  5da6106f-0d27-0d37-e9d7-dcfeccc1f709                Twitter  organization   \n",
      "\n",
      "  primary_role                                             cb_url  \\\n",
      "0      company  https://www.crunchbase.com/organization/wetpai...   \n",
      "1      company  https://www.crunchbase.com/organization/zoho?u...   \n",
      "2      company  https://www.crunchbase.com/organization/digg?u...   \n",
      "3      company  https://www.crunchbase.com/organization/facebo...   \n",
      "4     investor  https://www.crunchbase.com/organization/accel?...   \n",
      "5      company  https://www.crunchbase.com/organization/omnidr...   \n",
      "6      company  https://www.crunchbase.com/organization/geni?u...   \n",
      "7      company  https://www.crunchbase.com/organization/flekto...   \n",
      "8      company  https://www.crunchbase.com/organization/fox-in...   \n",
      "9      company  https://www.crunchbase.com/organization/twitte...   \n",
      "\n",
      "          domain              homepage_url  \\\n",
      "0   wetpaint.com  http://www.wetpaint.com/   \n",
      "1       zoho.com     https://www.zoho.com/   \n",
      "2       digg.com       http://www.digg.com   \n",
      "3   facebook.com   http://www.facebook.com   \n",
      "4      accel.com      http://www.accel.com   \n",
      "5  omnidrive.com  http://www.omnidrive.com   \n",
      "6       geni.com       http://www.geni.com   \n",
      "7    flektor.com    http://www.flektor.com   \n",
      "8        fox.com      https://www.fox.com/   \n",
      "9    twitter.com    http://www.twitter.com   \n",
      "\n",
      "                                            logo_url  \\\n",
      "0  https://res.cloudinary.com/crunchbase-producti...   \n",
      "1  https://res.cloudinary.com/crunchbase-producti...   \n",
      "2  https://res.cloudinary.com/crunchbase-producti...   \n",
      "3  https://res.cloudinary.com/crunchbase-producti...   \n",
      "4  https://res.cloudinary.com/crunchbase-producti...   \n",
      "5  https://res.cloudinary.com/crunchbase-producti...   \n",
      "6  https://res.cloudinary.com/crunchbase-producti...   \n",
      "7  https://res.cloudinary.com/crunchbase-producti...   \n",
      "8  https://res.cloudinary.com/crunchbase-producti...   \n",
      "9  https://res.cloudinary.com/crunchbase-producti...   \n",
      "\n",
      "                           facebook_url                     twitter_url  \\\n",
      "0     https://www.facebook.com/Wetpaint  https://twitter.com/wetpainttv   \n",
      "1          http://www.facebook.com/zoho         http://twitter.com/zoho   \n",
      "2          http://www.facebook.com/digg         http://twitter.com/digg   \n",
      "3    https://www.facebook.com/facebook/    https://twitter.com/facebook   \n",
      "4         http://www.facebook.com/accel        http://twitter.com/accel   \n",
      "5      http://www.facebook.com/Nomadesk     http://twitter.com/Nomadesk   \n",
      "6  https://www.facebook.com/genidotcom/         http://twitter.com/geni   \n",
      "7                                   NaN                             NaN   \n",
      "8                                   NaN                             NaN   \n",
      "9   https://www.facebook.com/twitterinc      http://twitter.com/twitter   \n",
      "\n",
      "                                        linkedin_url combined_stock_symbols  \\\n",
      "0          https://www.linkedin.com/company/wetpaint                    NaN   \n",
      "1  http://www.linkedin.com/company/zoho-corporati...                    NaN   \n",
      "2               http://www.linkedin.com/company/digg                    NaN   \n",
      "3           http://www.linkedin.com/company/facebook              nasdaq:FB   \n",
      "4         https://www.linkedin.com/company/accel-vc/                    NaN   \n",
      "5                                                NaN                    NaN   \n",
      "6   https://www.linkedin.com/company/geni-com/about/                    NaN   \n",
      "7                                                NaN                    NaN   \n",
      "8  https://www.linkedin.com/company/fox-interacti...                    NaN   \n",
      "9            http://www.linkedin.com/company/twitter              nyse:TWTR   \n",
      "\n",
      "             city      region country_code  \\\n",
      "0        New York    New York          USA   \n",
      "1      Pleasanton  California          USA   \n",
      "2        New York    New York          USA   \n",
      "3      Menlo Park  California          USA   \n",
      "4       Palo Alto  California          USA   \n",
      "5       Palo Alto  California          USA   \n",
      "6  West Hollywood  California          USA   \n",
      "7     Culver City  California          USA   \n",
      "8   Beverly Hills  California          USA   \n",
      "9   San Francisco  California          USA   \n",
      "\n",
      "                                   short_description  \n",
      "0  Wetpaint offers an online social publishing pl...  \n",
      "1  Zoho offers a suite of business, collaboration...  \n",
      "2  Digg Inc. operates a website that enables its ...  \n",
      "3  Facebook is an online social networking servic...  \n",
      "4  Accel is an early and growth-stage venture cap...  \n",
      "5  Omnidrive provides online storage facilities t...  \n",
      "6  Geni is an online community of genealogists co...  \n",
      "7  Flektor is a mash-up platform that enables con...  \n",
      "8  Fox Interactive Media is a network of companie...  \n",
      "9  Twitter is a social networking platform that a...  \n"
     ]
    }
   ],
   "source": [
    "#print the first 10 records of the data frame\n",
    "print(crunchbase_clean.head(10))"
   ]
  },
  {
   "cell_type": "code",
   "execution_count": 7,
   "id": "46c86625",
   "metadata": {},
   "outputs": [],
   "source": [
    "#filter for USA-based companies\n",
    "usa_companies = crunchbase_clean[crunchbase_clean[\"country_code\"] == \"USA\"]"
   ]
  },
  {
   "cell_type": "code",
   "execution_count": 8,
   "id": "9b837920",
   "metadata": {},
   "outputs": [],
   "source": [
    "#continue for filter for companies starting with \"ad\" case-insensitive, lowercase all names for filtering\n",
    "ad_companies = usa_companies[usa_companies[\"name\"].astype(str).str.lower().str.startswith(\"ad\")]"
   ]
  },
  {
   "cell_type": "code",
   "execution_count": 9,
   "id": "76f58850",
   "metadata": {},
   "outputs": [
    {
     "name": "stdout",
     "output_type": "stream",
     "text": [
      "Number of USA-based companies that start with 'ad': 3052\n"
     ]
    }
   ],
   "source": [
    "#print the count of records \n",
    "print(\"Number of USA-based companies that start with 'ad':\", len(ad_companies))"
   ]
  },
  {
   "cell_type": "code",
   "execution_count": 10,
   "id": "05aac8f3",
   "metadata": {},
   "outputs": [
    {
     "name": "stdout",
     "output_type": "stream",
     "text": [
      "                                      uuid             name          type  \\\n",
      "30    fc89cfde-a28e-e12c-443c-edccb6c93fd4          AddThis  organization   \n",
      "131   9bc6d32d-0bd1-6c54-b7b2-d7436e948bc0          adBrite  organization   \n",
      "301   172a34b4-9edd-b0ae-c768-cbfa8e1ab52c    Adobe Systems  organization   \n",
      "479   ab7be664-d0cf-f055-e82f-c7daa1f59e45  Advertising.com  organization   \n",
      "578   82176a6f-806b-1517-317e-1e318dca8f81            AdMob  organization   \n",
      "822   96f8cb80-0d79-328d-57d1-827f0b620c40          AdReady  organization   \n",
      "850   79ee09de-d880-0f35-6b2f-820ec3871f42       Adobe Sign  organization   \n",
      "858   76809208-640b-24f2-5f11-72622d07ef52         ADI Time  organization   \n",
      "977   d5648438-e3ad-4bbd-96ea-03c0a3238eba      Adteractive  organization   \n",
      "1133  01413ae9-b575-6101-8588-1ed6b0b3fc02    Adaptive Path  organization   \n",
      "\n",
      "     primary_role                                             cb_url  \\\n",
      "30        company  https://www.crunchbase.com/organization/addthi...   \n",
      "131       company  https://www.crunchbase.com/organization/adbrit...   \n",
      "301       company  https://www.crunchbase.com/organization/adobe-...   \n",
      "479       company  https://www.crunchbase.com/organization/advert...   \n",
      "578       company  https://www.crunchbase.com/organization/admob?...   \n",
      "822       company  https://www.crunchbase.com/organization/adread...   \n",
      "850       company  https://www.crunchbase.com/organization/echosi...   \n",
      "858       company  https://www.crunchbase.com/organization/aditim...   \n",
      "977       company  https://www.crunchbase.com/organization/adtera...   \n",
      "1133      company  https://www.crunchbase.com/organization/adapti...   \n",
      "\n",
      "                 domain                               homepage_url  \\\n",
      "30          addthis.com                     http://www.addthis.com   \n",
      "131         adbrite.com                         http://adbrite.com   \n",
      "301           adobe.com                       http://www.adobe.com   \n",
      "479     advertising.com               https://www.advertising.com/   \n",
      "578          google.com                http://www.google.com/admob   \n",
      "822         adready.com                         http://adready.com   \n",
      "850   acrobat.adobe.com  https://acrobat.adobe.com/us/en/sign.html   \n",
      "858         aditime.com                     http://www.aditime.com   \n",
      "977     adteractive.com                     http://adteractive.com   \n",
      "1133   adaptivepath.com                http://www.adaptivepath.com   \n",
      "\n",
      "                                               logo_url  \\\n",
      "30    https://res.cloudinary.com/crunchbase-producti...   \n",
      "131   https://res.cloudinary.com/crunchbase-producti...   \n",
      "301   https://res.cloudinary.com/crunchbase-producti...   \n",
      "479   https://res.cloudinary.com/crunchbase-producti...   \n",
      "578   https://res.cloudinary.com/crunchbase-producti...   \n",
      "822   https://res.cloudinary.com/crunchbase-producti...   \n",
      "850   https://res.cloudinary.com/crunchbase-producti...   \n",
      "858   https://res.cloudinary.com/crunchbase-producti...   \n",
      "977   https://res.cloudinary.com/crunchbase-producti...   \n",
      "1133  https://res.cloudinary.com/crunchbase-producti...   \n",
      "\n",
      "                                           facebook_url  \\\n",
      "30                      http://www.facebook.com/AddThis   \n",
      "131                  https://www.facebook.com/sitescout   \n",
      "301                       http://www.facebook.com/Adobe   \n",
      "479                 http://www.facebook.com/AOLPlatfoms   \n",
      "578   http://www.facebook.com/pages/Admob/1403745529...   \n",
      "822             https://www.facebook.com/cpxinteractive   \n",
      "850         https://www.facebook.com/adobedocumentcloud   \n",
      "858                                                 NaN   \n",
      "977                                                 NaN   \n",
      "1133          http://www.facebook.com/adaptivepath/info   \n",
      "\n",
      "                                 twitter_url  \\\n",
      "30                http://twitter.com/addthis   \n",
      "131               http://twitter.com/adBrite   \n",
      "301                 http://twitter.com/Adobe   \n",
      "479          http://twitter.com/aolplatforms   \n",
      "578                 http://twitter.com/admob   \n",
      "822               http://twitter.com/AdReady   \n",
      "850         http://twitter.com/adobedoccloud   \n",
      "858   https://www.twitter.com/asure_software   \n",
      "977                                      NaN   \n",
      "1133         http://twitter.com/AdaptivePath   \n",
      "\n",
      "                                           linkedin_url  \\\n",
      "30              http://www.linkedin.com/company/addthis   \n",
      "131                                                 NaN   \n",
      "301               http://www.linkedin.com/company/adobe   \n",
      "479   https://www.linkedin.com/company/advertising-c...   \n",
      "578               http://www.linkedin.com/company/24866   \n",
      "822             http://www.linkedin.com/company/adready   \n",
      "850   https://www.linkedin.com/company/adobe-documen...   \n",
      "858     https://www.linkedin.com/company/asure-software   \n",
      "977                                                 NaN   \n",
      "1133      http://www.linkedin.com/company/adaptive-path   \n",
      "\n",
      "     combined_stock_symbols           city        region country_code  \\\n",
      "30                      NaN         Vienna      Virginia          USA   \n",
      "131                     NaN  San Francisco    California          USA   \n",
      "301             nasdaq:ADBE       San Jose    California          USA   \n",
      "479                     NaN       New York      New York          USA   \n",
      "578                     NaN  Mountain View    California          USA   \n",
      "822                     NaN        Seattle    Washington          USA   \n",
      "850                     NaN  San Francisco    California          USA   \n",
      "858                     NaN        Warwick  Rhode Island          USA   \n",
      "977                     NaN  San Francisco    California          USA   \n",
      "1133                    NaN  San Francisco    California          USA   \n",
      "\n",
      "                                      short_description  \n",
      "30    AddThis provides social engagement tools, APIs...  \n",
      "131   adBrite, an advertising exchange platform, pro...  \n",
      "301   Adobe provides digital media and digital marke...  \n",
      "479   Advertising.com, now a part of ONE by AOL, ena...  \n",
      "578   AdMob is a mobile advertising network that hel...  \n",
      "822   AdReady, a division of CPXi, provides a self-s...  \n",
      "850   Adobe Sign, formerly EchoSign is an e-signatur...  \n",
      "858   ADI Time develops cloud computing time and Saa...  \n",
      "977   Adteractive is an online lead generation compa...  \n",
      "1133  Adaptive Path helps organizations develop prod...  \n"
     ]
    }
   ],
   "source": [
    "#print the first 10 records\n",
    "print(ad_companies.head(10))"
   ]
  },
  {
   "cell_type": "code",
   "execution_count": 11,
   "id": "03c3e51b",
   "metadata": {},
   "outputs": [],
   "source": [
    "import json "
   ]
  },
  {
   "cell_type": "code",
   "execution_count": 12,
   "id": "1dcf0845",
   "metadata": {},
   "outputs": [],
   "source": [
    "#convert ad_companies dataframe to a list of JSON objects; turning the df into one JSON string\n",
    "ad_json_string = ad_companies.to_json(orient=\"records\")"
   ]
  },
  {
   "cell_type": "code",
   "execution_count": 13,
   "id": "f6d460d8",
   "metadata": {},
   "outputs": [],
   "source": [
    "#parse JSON string into a list of JSON objects with json.loads\n",
    "ad_json = json.loads(ad_json_string)"
   ]
  },
  {
   "cell_type": "code",
   "execution_count": 14,
   "id": "1169aa3a",
   "metadata": {},
   "outputs": [
    {
     "name": "stdout",
     "output_type": "stream",
     "text": [
      "Number of JSON objects: 3052\n"
     ]
    }
   ],
   "source": [
    "#print the count of JSON objects\n",
    "print(\"Number of JSON objects:\", len(ad_json))"
   ]
  },
  {
   "cell_type": "code",
   "execution_count": 15,
   "id": "661e0501",
   "metadata": {},
   "outputs": [
    {
     "name": "stdout",
     "output_type": "stream",
     "text": [
      "[{'uuid': 'fc89cfde-a28e-e12c-443c-edccb6c93fd4', 'name': 'AddThis', 'type': 'organization', 'primary_role': 'company', 'cb_url': 'https://www.crunchbase.com/organization/addthis?utm_source=crunchbase&utm_medium=export&utm_campaign=odm_csv', 'domain': 'addthis.com', 'homepage_url': 'http://www.addthis.com', 'logo_url': 'https://res.cloudinary.com/crunchbase-production/image/upload/v1398228329/athjbh8d9o6fsbeyeo8h.png', 'facebook_url': 'http://www.facebook.com/AddThis', 'twitter_url': 'http://twitter.com/addthis', 'linkedin_url': 'http://www.linkedin.com/company/addthis', 'combined_stock_symbols': None, 'city': 'Vienna', 'region': 'Virginia', 'country_code': 'USA', 'short_description': 'AddThis provides social engagement tools, APIs and services personalizing websites for engagement, monetization and traffic boosting.'}, {'uuid': '9bc6d32d-0bd1-6c54-b7b2-d7436e948bc0', 'name': 'adBrite', 'type': 'organization', 'primary_role': 'company', 'cb_url': 'https://www.crunchbase.com/organization/adbrite?utm_source=crunchbase&utm_medium=export&utm_campaign=odm_csv', 'domain': 'adbrite.com', 'homepage_url': 'http://adbrite.com', 'logo_url': 'https://res.cloudinary.com/crunchbase-production/image/upload/v1397180472/61a562abe9ea5e251b64bd4c35f8500a.jpg', 'facebook_url': 'https://www.facebook.com/sitescout', 'twitter_url': 'http://twitter.com/adBrite', 'linkedin_url': None, 'combined_stock_symbols': None, 'city': 'San Francisco', 'region': 'California', 'country_code': 'USA', 'short_description': 'adBrite, an advertising exchange platform, provides site-level transparency, display, and video capabilities for advertisers and publishers.'}, {'uuid': '172a34b4-9edd-b0ae-c768-cbfa8e1ab52c', 'name': 'Adobe Systems', 'type': 'organization', 'primary_role': 'company', 'cb_url': 'https://www.crunchbase.com/organization/adobe-systems?utm_source=crunchbase&utm_medium=export&utm_campaign=odm_csv', 'domain': 'adobe.com', 'homepage_url': 'http://www.adobe.com', 'logo_url': 'https://res.cloudinary.com/crunchbase-production/image/upload/qnbpcajqvlw8bkul1tru', 'facebook_url': 'http://www.facebook.com/Adobe', 'twitter_url': 'http://twitter.com/Adobe', 'linkedin_url': 'http://www.linkedin.com/company/adobe', 'combined_stock_symbols': 'nasdaq:ADBE', 'city': 'San Jose', 'region': 'California', 'country_code': 'USA', 'short_description': 'Adobe provides digital media and digital marketing solutions.'}, {'uuid': 'ab7be664-d0cf-f055-e82f-c7daa1f59e45', 'name': 'Advertising.com', 'type': 'organization', 'primary_role': 'company', 'cb_url': 'https://www.crunchbase.com/organization/advertising-com?utm_source=crunchbase&utm_medium=export&utm_campaign=odm_csv', 'domain': 'advertising.com', 'homepage_url': 'https://www.advertising.com/', 'logo_url': 'https://res.cloudinary.com/crunchbase-production/image/upload/v1429011594/xdyghixfblpfebeur70e.jpg', 'facebook_url': 'http://www.facebook.com/AOLPlatfoms', 'twitter_url': 'http://twitter.com/aolplatforms', 'linkedin_url': 'https://www.linkedin.com/company/advertising-com/about/', 'combined_stock_symbols': None, 'city': 'New York', 'region': 'New York', 'country_code': 'USA', 'short_description': 'Advertising.com, now a part of ONE by AOL, enables marketers to reach consumers via programmatic buying and performance-driven campaigns.'}, {'uuid': '82176a6f-806b-1517-317e-1e318dca8f81', 'name': 'AdMob', 'type': 'organization', 'primary_role': 'company', 'cb_url': 'https://www.crunchbase.com/organization/admob?utm_source=crunchbase&utm_medium=export&utm_campaign=odm_csv', 'domain': 'google.com', 'homepage_url': 'http://www.google.com/admob', 'logo_url': 'https://res.cloudinary.com/crunchbase-production/image/upload/v1505992319/u0bw4xgxa4zeughbofah.jpg', 'facebook_url': 'http://www.facebook.com/pages/Admob/1403745529887127', 'twitter_url': 'http://twitter.com/admob', 'linkedin_url': 'http://www.linkedin.com/company/24866', 'combined_stock_symbols': None, 'city': 'Mountain View', 'region': 'California', 'country_code': 'USA', 'short_description': 'AdMob is a mobile advertising network that helps app developers monetize and promote their mobile and tablet apps with ads.'}]\n"
     ]
    }
   ],
   "source": [
    "#print the first 5 JSON objects\n",
    "print(ad_json[:5])"
   ]
  },
  {
   "cell_type": "code",
   "execution_count": 16,
   "id": "9d911e99",
   "metadata": {},
   "outputs": [],
   "source": [
    "#write JSON objects into a JSON string text file\n",
    "with open(\"ad_companies.json\", \"w\") as file:\n",
    "    json.dump(ad_json, file)"
   ]
  },
  {
   "cell_type": "code",
   "execution_count": 17,
   "id": "d32ecab8",
   "metadata": {},
   "outputs": [],
   "source": [
    "#read the file back and print count to confirm\n",
    "with open(\"ad_companies.json\", \"r\") as file:\n",
    "    check_json = json.load(file)\n",
    "\n"
   ]
  },
  {
   "cell_type": "code",
   "execution_count": 18,
   "id": "0335762e",
   "metadata": {},
   "outputs": [
    {
     "name": "stdout",
     "output_type": "stream",
     "text": [
      "Number of records in the resulting file: 3052\n"
     ]
    }
   ],
   "source": [
    "#print the number of records in the resulting file\n",
    "print(\"Number of records in the resulting file:\", len(check_json))"
   ]
  },
  {
   "cell_type": "code",
   "execution_count": 19,
   "id": "75468c2b",
   "metadata": {},
   "outputs": [],
   "source": [
    "#read JSON objects back into df\n",
    "df_json = pd.read_json(\"ad_companies.json\")"
   ]
  },
  {
   "cell_type": "code",
   "execution_count": 20,
   "id": "498adc39",
   "metadata": {},
   "outputs": [],
   "source": [
    "#filter for companies based in New York\n",
    "ny_companies = df_json[df_json[\"region\"] == \"New York\"]"
   ]
  },
  {
   "cell_type": "code",
   "execution_count": 21,
   "id": "f85eac11",
   "metadata": {},
   "outputs": [
    {
     "name": "stdout",
     "output_type": "stream",
     "text": [
      "Number of companies based in NY: 270\n"
     ]
    }
   ],
   "source": [
    "#print number of records from resulting df\n",
    "print(\"Number of companies based in NY:\", len(ny_companies))"
   ]
  },
  {
   "cell_type": "code",
   "execution_count": 22,
   "id": "0673104e",
   "metadata": {},
   "outputs": [
    {
     "name": "stdout",
     "output_type": "stream",
     "text": [
      "                                    uuid             name          type  \\\n",
      "3   ab7be664-d0cf-f055-e82f-c7daa1f59e45  Advertising.com  organization   \n",
      "12  1e1bc216-aaae-3bae-9578-f868733c9b62     AdaptiveBlue  organization   \n",
      "13  e9902eb8-59bb-fe73-2145-634a2220bd78          Adap.tv  organization   \n",
      "16  114733d1-3539-ddbe-66d7-e36b93d327c5        Advaliant  organization   \n",
      "19  0c275272-0eaf-9c21-126d-6ba3469a1f15  Advertising.com  organization   \n",
      "\n",
      "   primary_role                                             cb_url  \\\n",
      "3       company  https://www.crunchbase.com/organization/advert...   \n",
      "12      company  https://www.crunchbase.com/organization/adapti...   \n",
      "13      company  https://www.crunchbase.com/organization/adap-t...   \n",
      "16      company  https://www.crunchbase.com/organization/advali...   \n",
      "19      company  https://www.crunchbase.com/organization/adtech...   \n",
      "\n",
      "             domain                  homepage_url  \\\n",
      "3   advertising.com  https://www.advertising.com/   \n",
      "12        tvtag.com             http://tvtag.com/   \n",
      "13          adap.tv            http://www.adap.tv   \n",
      "16    advaliant.com      http://www.advaliant.com   \n",
      "19      adtech.info        http://www.adtech.info   \n",
      "\n",
      "                                             logo_url  \\\n",
      "3   https://res.cloudinary.com/crunchbase-producti...   \n",
      "12  https://res.cloudinary.com/crunchbase-producti...   \n",
      "13  https://res.cloudinary.com/crunchbase-producti...   \n",
      "16  https://res.cloudinary.com/crunchbase-producti...   \n",
      "19  https://res.cloudinary.com/crunchbase-producti...   \n",
      "\n",
      "                           facebook_url                      twitter_url  \\\n",
      "3   http://www.facebook.com/AOLPlatfoms  http://twitter.com/aolplatforms   \n",
      "12     http://www.facebook.com/tvtagapp       http://twitter.com/GetGlue   \n",
      "13                                 None                             None   \n",
      "16                                 None     http://twitter.com/advaliant   \n",
      "19                                 None                             None   \n",
      "\n",
      "                                         linkedin_url combined_stock_symbols  \\\n",
      "3   https://www.linkedin.com/company/advertising-c...                   None   \n",
      "12                                               None                   None   \n",
      "13          https://www.linkedin.com/company/adap-tv/                   None   \n",
      "16                                               None                   None   \n",
      "19                                               None                   None   \n",
      "\n",
      "        city    region country_code  \\\n",
      "3   New York  New York          USA   \n",
      "12  New York  New York          USA   \n",
      "13  New York  New York          USA   \n",
      "16  New York  New York          USA   \n",
      "19  New York  New York          USA   \n",
      "\n",
      "                                    short_description  \n",
      "3   Advertising.com, now a part of ONE by AOL, ena...  \n",
      "12  AdaptiveBlue operates GetGlue, a social entert...  \n",
      "13  Adap.tv, now a part of ONE by AOL, transforms ...  \n",
      "16  Advaliant provides end-to-end, performance-bas...  \n",
      "19  ADTECH, now integrated in ONE by AOL, offers a...  \n"
     ]
    }
   ],
   "source": [
    "#verify by printing the first 5\n",
    "print(ny_companies.head())"
   ]
  },
  {
   "cell_type": "code",
   "execution_count": 26,
   "id": "fe266862",
   "metadata": {},
   "outputs": [
    {
     "name": "stdout",
     "output_type": "stream",
     "text": [
      "Requirement already satisfied: flask in /Library/Frameworks/Python.framework/Versions/3.13/lib/python3.13/site-packages (3.1.2)\n",
      "Requirement already satisfied: blinker>=1.9.0 in /Library/Frameworks/Python.framework/Versions/3.13/lib/python3.13/site-packages (from flask) (1.9.0)\n",
      "Requirement already satisfied: click>=8.1.3 in /Library/Frameworks/Python.framework/Versions/3.13/lib/python3.13/site-packages (from flask) (8.3.0)\n",
      "Requirement already satisfied: itsdangerous>=2.2.0 in /Library/Frameworks/Python.framework/Versions/3.13/lib/python3.13/site-packages (from flask) (2.2.0)\n",
      "Requirement already satisfied: jinja2>=3.1.2 in /Library/Frameworks/Python.framework/Versions/3.13/lib/python3.13/site-packages (from flask) (3.1.6)\n",
      "Requirement already satisfied: markupsafe>=2.1.1 in /Library/Frameworks/Python.framework/Versions/3.13/lib/python3.13/site-packages (from flask) (3.0.2)\n",
      "Requirement already satisfied: werkzeug>=3.1.0 in /Library/Frameworks/Python.framework/Versions/3.13/lib/python3.13/site-packages (from flask) (3.1.3)\n"
     ]
    }
   ],
   "source": [
    "#Importing Flask to convert to webpage\n",
    "!python3 -m pip install flask\n"
   ]
  },
  {
   "cell_type": "code",
   "execution_count": 2,
   "id": "2a83ba7f",
   "metadata": {},
   "outputs": [
    {
     "name": "stdout",
     "output_type": "stream",
     "text": [
      "Overwriting app.py\n"
     ]
    }
   ],
   "source": [
    "%%writefile app.py\n",
    "from flask import Flask\n",
    "import pandas as pd\n",
    "\n",
    "#read JSON and filter for NY companies again (since running app.py starts a separate python process)\n",
    "df_json = pd.read_json(\"ad_companies.json\")\n",
    "ny_companies = df_json[df_json[\"region\"] == \"New York\"]\n",
    "\n",
    "#set up Flask app\n",
    "app = Flask(__name__)\n",
    "\n",
    "#define route to serve table\n",
    "@app.route(\"/\")\n",
    "def show_table_ny():\n",
    "    html = \"\"\"\n",
    "    <html>\n",
    "     <head>\n",
    "      <title>NY Companies</title>\n",
    "      <style>\n",
    "       body {{ font-family: Arial, sans-serif; margin: 40px; }}\n",
    "       h1 {{ color: #2c3e50; }}\n",
    "       table {{ border-collapse: collapse; width: 100%; }}\n",
    "       th, td {{ border: 1px solid #ddd; padding: 8px; text-align: left; }}\n",
    "       th {{ background-color: #2c3e50; color: white; }}\n",
    "       tr:nth-child(even) {{ background-color: #f9f9f9; }}\n",
    "      </style>\n",
    "     </head>\n",
    "     <body>\n",
    "      <h1>List of Companies in New York</h1>\n",
    "      {table}\n",
    "     </body>\n",
    "    </html>\n",
    "    \"\"\".format(table=ny_companies.to_html(index=False, escape=False))\n",
    "    return html\n",
    "\n",
    "#run the app\n",
    "if __name__ == \"__main__\":\n",
    "    app.run(debug=True, use_reloader=False)"
   ]
  },
  {
   "cell_type": "code",
   "execution_count": 1,
   "id": "98c8bbab",
   "metadata": {},
   "outputs": [
    {
     "name": "stdout",
     "output_type": "stream",
     "text": [
      " * Serving Flask app 'app'\n",
      " * Debug mode: on\n",
      "\u001b[31m\u001b[1mWARNING: This is a development server. Do not use it in a production deployment. Use a production WSGI server instead.\u001b[0m\n",
      " * Running on http://127.0.0.1:5000\n",
      "\u001b[33mPress CTRL+C to quit\u001b[0m\n",
      "127.0.0.1 - - [28/Sep/2025 12:27:06] \"GET / HTTP/1.1\" 200 -\n",
      "127.0.0.1 - - [28/Sep/2025 12:27:09] \"\u001b[33mGET /apple-touch-icon-precomposed.png HTTP/1.1\u001b[0m\" 404 -\n",
      "127.0.0.1 - - [28/Sep/2025 12:27:09] \"\u001b[33mGET /apple-touch-icon.png HTTP/1.1\u001b[0m\" 404 -\n",
      "127.0.0.1 - - [28/Sep/2025 12:27:09] \"\u001b[33mGET /favicon.ico HTTP/1.1\u001b[0m\" 404 -\n",
      "127.0.0.1 - - [28/Sep/2025 12:27:12] \"GET / HTTP/1.1\" 200 -\n",
      "127.0.0.1 - - [28/Sep/2025 12:27:12] \"\u001b[33mGET /favicon.ico HTTP/1.1\u001b[0m\" 404 -\n",
      "^C\n"
     ]
    }
   ],
   "source": [
    "!python3 app.py"
   ]
  }
 ],
 "metadata": {
  "kernelspec": {
   "display_name": "Python 3",
   "language": "python",
   "name": "python3"
  },
  "language_info": {
   "codemirror_mode": {
    "name": "ipython",
    "version": 3
   },
   "file_extension": ".py",
   "mimetype": "text/x-python",
   "name": "python",
   "nbconvert_exporter": "python",
   "pygments_lexer": "ipython3",
   "version": "3.13.7"
  }
 },
 "nbformat": 4,
 "nbformat_minor": 5
}
